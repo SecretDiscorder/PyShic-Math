{
  "nbformat": 4,
  "nbformat_minor": 0,
  "metadata": {
    "colab": {
      "provenance": [],
      "authorship_tag": "ABX9TyOjIZDtkQj7gVvN7B/Wysjy",
      "include_colab_link": true
    },
    "kernelspec": {
      "name": "python3",
      "display_name": "Python 3"
    },
    "language_info": {
      "name": "python"
    }
  },
  "cells": [
    {
      "cell_type": "markdown",
      "metadata": {
        "id": "view-in-github",
        "colab_type": "text"
      },
      "source": [
        "<a href=\"https://colab.research.google.com/github/SecretDiscorder/PyShic/blob/main/simple_tan_to_degree.ipynb\" target=\"_parent\"><img src=\"https://colab.research.google.com/assets/colab-badge.svg\" alt=\"Open In Colab\"/></a>"
      ]
    },
    {
      "cell_type": "code",
      "execution_count": null,
      "metadata": {
        "id": "kDDxbHogHcsq"
      },
      "outputs": [],
      "source": [
        "import math\n",
        "\n",
        "\n",
        "def main():\n",
        "  b= (float(input('masukan nilai b:')));\n",
        "  c= math.atan(b); #radian\n",
        "  d= math.degrees(c); #derajat\n",
        "  print(d)\n",
        "  return 0;\n",
        "\n",
        "\n",
        "if __name__ == \"__main__\":\n",
        "    main()"
      ]
    }
  ]
}