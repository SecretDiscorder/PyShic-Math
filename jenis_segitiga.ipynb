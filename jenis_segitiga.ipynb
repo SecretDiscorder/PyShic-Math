{
  "nbformat": 4,
  "nbformat_minor": 0,
  "metadata": {
    "colab": {
      "provenance": [],
      "authorship_tag": "ABX9TyPz4R5i+4Uz60MMXvy3v+3f",
      "include_colab_link": true
    },
    "kernelspec": {
      "name": "python3",
      "display_name": "Python 3"
    },
    "language_info": {
      "name": "python"
    }
  },
  "cells": [
    {
      "cell_type": "markdown",
      "metadata": {
        "id": "view-in-github",
        "colab_type": "text"
      },
      "source": [
        "<a href=\"https://colab.research.google.com/github/SecretDiscorder/PyShic-Math/blob/main/jenis_segitiga.ipynb\" target=\"_parent\"><img src=\"https://colab.research.google.com/assets/colab-badge.svg\" alt=\"Open In Colab\"/></a>"
      ]
    },
    {
      "cell_type": "code",
      "execution_count": 18,
      "metadata": {
        "id": "5gv3doZ3aTr1",
        "colab": {
          "base_uri": "https://localhost:8080/"
        },
        "outputId": "f4c20418-6983-4a54-c858-d3d77caf407e"
      },
      "outputs": [
        {
          "output_type": "stream",
          "name": "stdout",
          "text": [
            "Masukan bilangan a3\n",
            "Masukan bilangan b4\n",
            "Masukan bilangan c5\n",
            "merupakan segitiga sembarangan\n"
          ]
        }
      ],
      "source": [
        "import math\n",
        "a = int(input(\"Masukan bilangan a\"))\n",
        "b = int(input(\"Masukan bilangan b\"))\n",
        "c = int(input(\"Masukan bilangan c\"))\n",
        "d= math.sqrt(a**2+b**2)\n",
        "\n",
        "if (a == b == c):\n",
        "  print(\"merupakan segitiga sama sisi\")\n",
        "elif (a == b != c):\n",
        "  print(\"merupakan segitiga sama kaki\")\n",
        "elif(a != b !=c == int(d) ):\n",
        "  print(\"merupakan segitiga sembarangan\")\n",
        "else :\n",
        "  print(\"bukan segitiga\")"
      ]
    }
  ]
}