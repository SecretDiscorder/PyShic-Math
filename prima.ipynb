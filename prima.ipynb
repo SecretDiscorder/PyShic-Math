{
  "nbformat": 4,
  "nbformat_minor": 0,
  "metadata": {
    "colab": {
      "provenance": [],
      "authorship_tag": "ABX9TyMwzbLoANL+u7A0Yz7QOMMC",
      "include_colab_link": true
    },
    "kernelspec": {
      "name": "python3",
      "display_name": "Python 3"
    },
    "language_info": {
      "name": "python"
    }
  },
  "cells": [
    {
      "cell_type": "markdown",
      "metadata": {
        "id": "view-in-github",
        "colab_type": "text"
      },
      "source": [
        "<a href=\"https://colab.research.google.com/github/SecretDiscorder/PyShic-Math/blob/main/prima.ipynb\" target=\"_parent\"><img src=\"https://colab.research.google.com/assets/colab-badge.svg\" alt=\"Open In Colab\"/></a>"
      ]
    },
    {
      "cell_type": "code",
      "execution_count": null,
      "metadata": {
        "colab": {
          "base_uri": "https://localhost:8080/"
        },
        "id": "a_Axe5FvSulX",
        "outputId": "67401489-d64f-40bc-fd9b-eb96c20eaca9"
      },
      "outputs": [
        {
          "output_type": "stream",
          "name": "stdout",
          "text": [
            "Masukkan suku ke-n bilangan prima Mersenne: 20\n",
            "Hasil telah ditulis ke dalam file 'bilangan_prima.txt'\n"
          ]
        }
      ],
      "source": [
        "import gmpy2\n",
        "\n",
        "def is_prime(n):\n",
        "    return gmpy2.is_prime(n)\n",
        "\n",
        "def find_nth_mersenne_prime(n):\n",
        "    count = 1\n",
        "    exponent = 2\n",
        "    while True:\n",
        "        mersenne_number = gmpy2.mpz(2) ** exponent - 1\n",
        "        if is_prime(mersenne_number):\n",
        "            if count == n:\n",
        "                return mersenne_number\n",
        "            count += 1\n",
        "        exponent += 1\n",
        "\n",
        "try:\n",
        "    n = int(input(\"Masukkan suku ke-n bilangan prima Mersenne: \"))\n",
        "    if n <= 0:\n",
        "        print(\"Masukkan suku ke-n yang valid (angka positif).\")\n",
        "    else:\n",
        "        nth_mersenne_prime = find_nth_mersenne_prime(n)\n",
        "        with open(\"bilangan_prima.txt\", \"w\") as file:\n",
        "            file.write(f\"Bilangan prima Mersenne ke-{n} adalah: {nth_mersenne_prime}\")\n",
        "\n",
        "        print(f\"Hasil telah ditulis ke dalam file 'bilangan_prima.txt'\")\n",
        "except ValueError:\n",
        "    print(\"Masukkan suku ke-n yang valid (angka positif).\")"
      ]
    },
    {
      "cell_type": "code",
      "source": [
        "!pip install gmpy2"
      ],
      "metadata": {
        "colab": {
          "base_uri": "https://localhost:8080/"
        },
        "id": "oQ8jcdoYTTek",
        "outputId": "22ed56dd-aa8d-47c6-de1f-9a29eb57c064"
      },
      "execution_count": null,
      "outputs": [
        {
          "output_type": "stream",
          "name": "stdout",
          "text": [
            "Collecting gmpy2\n",
            "  Downloading gmpy2-2.1.5-cp310-cp310-manylinux_2_17_x86_64.manylinux2014_x86_64.whl (1.7 MB)\n",
            "\u001b[2K     \u001b[90m━━━━━━━━━━━━━━━━━━━━━━━━━━━━━━━━━━━━━━━━\u001b[0m \u001b[32m1.7/1.7 MB\u001b[0m \u001b[31m12.0 MB/s\u001b[0m eta \u001b[36m0:00:00\u001b[0m\n",
            "\u001b[?25hInstalling collected packages: gmpy2\n",
            "Successfully installed gmpy2-2.1.5\n"
          ]
        }
      ]
    }
  ]
}